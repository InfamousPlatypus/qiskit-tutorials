{
 "cells": [
  {
   "cell_type": "markdown",
   "metadata": {},
   "source": [
    "# Getting Started with Qiskit has been removed\n",
    "\n",
    "Please go to[quantum circuit](https://qiskit.org/documentation/tutorials/circuits/01_circuit_basics.html).\n"
    "For more information, you can see [the issue this was discussed in](https://github.com/Qiskit/qiskit/issues/1497).\n"
   ]
  },
 }
